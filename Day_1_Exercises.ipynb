{
  "nbformat": 4,
  "nbformat_minor": 0,
  "metadata": {
    "colab": {
      "name": "Day 1  Exercises",
      "provenance": [],
      "collapsed_sections": [],
      "authorship_tag": "ABX9TyOLZrP2X20/q4xfnMYLLfVk",
      "include_colab_link": true
    },
    "kernelspec": {
      "name": "python3",
      "display_name": "Python 3"
    }
  },
  "cells": [
    {
      "cell_type": "markdown",
      "metadata": {
        "id": "view-in-github",
        "colab_type": "text"
      },
      "source": [
        "<a href=\"https://colab.research.google.com/github/alvas-education-foundation/rohan-shetty-online-courses/blob/master/Day_1_Exercises.ipynb\" target=\"_parent\"><img src=\"https://colab.research.google.com/assets/colab-badge.svg\" alt=\"Open In Colab\"/></a>"
      ]
    },
    {
      "cell_type": "markdown",
      "metadata": {
        "id": "t-xFpYHZBgWs",
        "colab_type": "text"
      },
      "source": [
        "1.\tFind the compound interest for the given p,n,r  "
      ]
    },
    {
      "cell_type": "code",
      "metadata": {
        "id": "_8iYh8lqBj0a",
        "colab_type": "code",
        "colab": {
          "base_uri": "https://localhost:8080/",
          "height": 87
        },
        "outputId": "b6c98b3b-5989-4de5-d8fd-1fcf1f5d3302"
      },
      "source": [
        "#principle amount\n",
        "p=float(input(\"Enter the principle amount: \"))\n",
        "#Rate of interest\n",
        "r=float(input(\"Enter the Rate of interest: \"))\n",
        "#number of years\n",
        "n=float(input(\"Enter number of years: \"))\n",
        "#compound interest\n",
        "print(\"coumpund interest is {:.2f}\".format(p * (pow((1 + r / 100), n)) ))"
      ],
      "execution_count": null,
      "outputs": [
        {
          "output_type": "stream",
          "text": [
            "Enter the principle amount: 250000\n",
            "Enter the Rate of interest: 36\n",
            "Enter number of years: 1\n",
            "coumpund interest is 340000.00\n"
          ],
          "name": "stdout"
        }
      ]
    },
    {
      "cell_type": "markdown",
      "metadata": {
        "id": "3UOJodhsE-t_",
        "colab_type": "text"
      },
      "source": [
        "2.\tConvert centegrade to farenheit \n",
        "\n"
      ]
    },
    {
      "cell_type": "code",
      "metadata": {
        "id": "OgkWUUsYFJb_",
        "colab_type": "code",
        "colab": {
          "base_uri": "https://localhost:8080/",
          "height": 52
        },
        "outputId": "5fc1ea42-b0a1-4fbb-9a86-1cde5c9bf572"
      },
      "source": [
        "#temperature in celcius \n",
        "celcius=float(input(\"Enter temperature in celsius: \"))\n",
        "#temperature in Fahrenheit\n",
        "print(\"{:.2f} Celcius is {:.2f} Fahrenheit\".format(celcius,(9/5*celcius)+32))\n"
      ],
      "execution_count": null,
      "outputs": [
        {
          "output_type": "stream",
          "text": [
            "Enter temperature in celsius: 37\n",
            "37.00 Celcius is 98.60 Fahrenheit\n"
          ],
          "name": "stdout"
        }
      ]
    },
    {
      "cell_type": "markdown",
      "metadata": {
        "id": "HxDl5b42Imre",
        "colab_type": "text"
      },
      "source": [
        "3.\tFind the greater of two nos "
      ]
    },
    {
      "cell_type": "code",
      "metadata": {
        "id": "tzD4422eIqGK",
        "colab_type": "code",
        "colab": {
          "base_uri": "https://localhost:8080/",
          "height": 70
        },
        "outputId": "de8e280e-bbff-4e42-d831-bb0d7af12810"
      },
      "source": [
        "#1st number\n",
        "a=float(input(\"enter the first number: \"))\n",
        "#2nd number\n",
        "b=float(input(\"enter the second number: \"))\n",
        "print(\"the greater number is : {} \".format(max(a,b)))"
      ],
      "execution_count": null,
      "outputs": [
        {
          "output_type": "stream",
          "text": [
            "enter the first number: 52\n",
            "enter the second number: 51.65\n",
            "the greater number is : 52.0 \n"
          ],
          "name": "stdout"
        }
      ]
    },
    {
      "cell_type": "markdown",
      "metadata": {
        "id": "IoI9O-yRKLci",
        "colab_type": "text"
      },
      "source": [
        ""
      ]
    },
    {
      "cell_type": "code",
      "metadata": {
        "id": "j5Prw-JLJZKE",
        "colab_type": "code",
        "colab": {}
      },
      "source": [
        "4.\tWrite a program for finding surface areas of cylinder and cone (2*PI*r*r*h, 1/3*PI*r*r*h) using function."
      ],
      "execution_count": null,
      "outputs": []
    },
    {
      "cell_type": "code",
      "metadata": {
        "id": "2b1DsttAKRWL",
        "colab_type": "code",
        "colab": {
          "base_uri": "https://localhost:8080/",
          "height": 70
        },
        "outputId": "0de27372-a9e3-40ef-dbb4-7129d274015a"
      },
      "source": [
        "#import math\n",
        "import math\n",
        "PI=math.pi\n",
        "#area of cylinder \n",
        "def areaCylinder(PI,r,h):\n",
        "  return 2*PI*r*r*h\n",
        "#area of cone\n",
        "def areaCone(PI,r,h):\n",
        "  return 1/3*PI*r*r*h\n",
        "r=float(input(\"enter the radius: \"))\n",
        "h=float(input(\"enter the height: \"))\n",
        "print(\"the areas of cylinder and cone are {:.2f} {:.2f} \".format(areaCylinder(PI,r,h),areaCone(PI,r,h)))"
      ],
      "execution_count": null,
      "outputs": [
        {
          "output_type": "stream",
          "text": [
            "enter the radius: 5\n",
            "enter the height: 10\n",
            "the areas of cylinder and cone are 1570.80 261.80 \n"
          ],
          "name": "stdout"
        }
      ]
    },
    {
      "cell_type": "markdown",
      "metadata": {
        "id": "8aYJ9tZqRgZU",
        "colab_type": "text"
      },
      "source": [
        "5.\tFind the greatest of four nos ( using ‘and’ operator)   using function"
      ]
    },
    {
      "cell_type": "code",
      "metadata": {
        "id": "lwHQtF_xRkfP",
        "colab_type": "code",
        "colab": {
          "base_uri": "https://localhost:8080/",
          "height": 105
        },
        "outputId": "1ec5a782-b5ac-47ae-c6fe-44e0841353c6"
      },
      "source": [
        "def greatest(a,b,c,d):\n",
        "  if ((a>b) and (a>c) and (a>d)):\n",
        "    return \"the greater number is {}\".format(a)\n",
        "  elif (b>a) and (b>c) and (b>d):\n",
        "    return \"the greater number is {}\".format(b)\n",
        "  elif (c>b) and (c>a) and (c>d):\n",
        "    return \"the greater number is {}\".format(c)\n",
        "  else:\n",
        "    return \"the greater number is {}\".format(d)\n",
        "a=float (input(\"enter the firtst number: \"))\n",
        "b=float (input(\"enter the second number: \"))\n",
        "c=float (input(\"enter the third number: \"))\n",
        "d=float (input(\"enter the last number: \"))\n",
        "print(greatest(a,b,c,d))\n"
      ],
      "execution_count": null,
      "outputs": [
        {
          "output_type": "stream",
          "text": [
            "enter the firtst number: 14\n",
            "enter the second number: 52\n",
            "enter the third number: 78\n",
            "enter the last number: 95\n",
            "the greater number is 95.0\n"
          ],
          "name": "stdout"
        }
      ]
    },
    {
      "cell_type": "markdown",
      "metadata": {
        "id": "P_cVcndoZ9fy",
        "colab_type": "text"
      },
      "source": [
        "6.\tWrite a  menu program to perform the operations ( ODDorEven, Factorial, ODDNoUptoN, PrimeUptoN ) using functions for two nos with  menu choice"
      ]
    },
    {
      "cell_type": "code",
      "metadata": {
        "id": "9FjGWEfEaCKo",
        "colab_type": "code",
        "colab": {
          "base_uri": "https://localhost:8080/",
          "height": 351
        },
        "outputId": "870a1e6f-211e-4198-df41-7a78960b069a"
      },
      "source": [
        "import math\n",
        "loop = 1 # 1 means loop; anything else means don't loop.\n",
        "choice = 0 # This variable holds the user's choice in the menu\n",
        "\n",
        "def oddEven(n):\n",
        "  if n%2==0:\n",
        "    return \"the number {} is even \".format(n)\n",
        "  else:\n",
        "    return \"the number {} is odd \".format(n)\n",
        "\n",
        "\n",
        "def fact(n):\n",
        "  return math.factorial(int(n))\n",
        "\n",
        "def oddNoUptoN(n):\n",
        "  for i in range(n+1):\n",
        "    if i % 2 != 0: \n",
        "        return i\n",
        "\n",
        "def primeUptoN(n):\n",
        "  for val in range(0,n+1): \n",
        "    if val > 1: \n",
        "      for i in range(2, val//2 + 2): \n",
        "        if (val % i) == 0: \n",
        "          break\n",
        "        else: \n",
        "          if i == val//2 + 1: \n",
        "            print(val) \n",
        "\n",
        "\n",
        "\n",
        "\n",
        "while loop==1:\n",
        "  # Print what options you have\n",
        "  print(\"your options are:\")\n",
        "  print(\" \")\n",
        "  print(\"1) ODDorEven\")\n",
        "  print(\"2) Factorial\")\n",
        "  print(\"3) ODDNoUptoN\")\n",
        "  print(\"4) PrimeUptoN\")\n",
        "  print(\"5) Quit operations.py\")\n",
        "  print(\" \")\n",
        "  try:\n",
        "    choice = int(input(\"choose your options: \"))\n",
        "  except:\n",
        "    print('please enter a valid number for option')\n",
        "    print(\" \")\n",
        "    print(\" \")\n",
        "  if choice == 1:\n",
        "    n = int(input(\"Enter the number: \"))\n",
        "    print(oddEven(n))\n",
        "  elif choice == 2:\n",
        "    n = int(input(\"Enter the number: \"))\n",
        "    print(fact(n))\n",
        "  elif choice == 3:\n",
        "    n = int(input(\"Enter the number: \"))\n",
        "    a = oddNoUptoN(n)\n",
        "    print(a)\n",
        "  elif choice == 4:\n",
        "    n = int(input(\"Enter the number: \"))\n",
        "    print(primeUptoN(n))\n",
        "  elif choice ==5:\n",
        "    loop=0\n",
        "  else:\n",
        "    print(\"please choice a valid option from 1 to 5\")\n",
        "    choice=0\n",
        "print (\"Thank-you!\")\n"
      ],
      "execution_count": null,
      "outputs": [
        {
          "output_type": "stream",
          "text": [
            "your options are:\n",
            " \n",
            "1) ODDorEven\n",
            "2) Factorial\n",
            "3) ODDNoUptoN\n",
            "4) PrimeUptoN\n",
            "5) Quit operations.py\n",
            " \n",
            "3\n",
            "5\n",
            "None\n",
            "your options are:\n",
            " \n",
            "1) ODDorEven\n",
            "2) Factorial\n",
            "3) ODDNoUptoN\n",
            "4) PrimeUptoN\n",
            "5) Quit operations.py\n",
            " \n"
          ],
          "name": "stdout"
        }
      ]
    },
    {
      "cell_type": "code",
      "metadata": {
        "id": "gINV_cGqth6L",
        "colab_type": "code",
        "colab": {}
      },
      "source": [
        ""
      ],
      "execution_count": null,
      "outputs": []
    }
  ]
}